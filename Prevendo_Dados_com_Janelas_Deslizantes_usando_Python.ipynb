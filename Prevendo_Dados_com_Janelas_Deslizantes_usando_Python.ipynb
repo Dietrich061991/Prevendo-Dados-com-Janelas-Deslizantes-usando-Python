{
  "nbformat": 4,
  "nbformat_minor": 0,
  "metadata": {
    "colab": {
      "name": "Prevendo Dados com Janelas Deslizantes usando Python",
      "provenance": [],
      "collapsed_sections": [],
      "authorship_tag": "ABX9TyPpss1+zddq7kWeWf1rsnzl",
      "include_colab_link": true
    },
    "kernelspec": {
      "name": "python3",
      "display_name": "Python 3"
    }
  },
  "cells": [
    {
      "cell_type": "markdown",
      "metadata": {
        "id": "view-in-github",
        "colab_type": "text"
      },
      "source": [
        "<a href=\"https://colab.research.google.com/github/Dietrich061991/Prevendo-Dados-com-Janelas-Deslizantes-usando-Python/blob/master/Prevendo_Dados_com_Janelas_Deslizantes_usando_Python.ipynb\" target=\"_parent\"><img src=\"https://colab.research.google.com/assets/colab-badge.svg\" alt=\"Open In Colab\"/></a>"
      ]
    },
    {
      "cell_type": "markdown",
      "metadata": {
        "id": "0EPOfHm99BXU",
        "colab_type": "text"
      },
      "source": [
        "# Prevendo Dados com Janelas Deslizantes usando Python"
      ]
    },
    {
      "cell_type": "markdown",
      "metadata": {
        "id": "z3UN5iKlJ8uI",
        "colab_type": "text"
      },
      "source": [
        "Você vai aprender como fazer Walk-Forward. Walk-forward significa \"andar para a frente\"  iremos aplicar isso com um modelo de médias móveis para prever vendas. Você pode aplicar em qualquer modelo, seja usando Machine Learning ou métodos estatísticos. Independente de qual seja o seu modelo, esta técnica irá permitir você treinar e testar os dados a medida que avança na linha do tempo."
      ]
    },
    {
      "cell_type": "markdown",
      "metadata": {
        "id": "Dz6nSm53PLrC",
        "colab_type": "text"
      },
      "source": [
        "**Médias** **Móveis** (**Average** **Moving** **Smoothing**)\n"
      ]
    },
    {
      "cell_type": "markdown",
      "metadata": {
        "id": "2nrCtno4PU2i",
        "colab_type": "text"
      },
      "source": [
        "\n",
        "\n",
        "*   Valor médio de valores em uma sequência de tempo.\n",
        "*   Objetivo é remover ruídos e fazer previsões.\n",
        "*   Pode ser usado para Feature Engineering.\n",
        "\n"
      ]
    },
    {
      "cell_type": "code",
      "metadata": {
        "id": "WJh856cBJYl-",
        "colab_type": "code",
        "outputId": "2d5bf7c2-0914-42a4-8ce3-4846eea20bef",
        "colab": {
          "base_uri": "https://localhost:8080/",
          "height": 34
        }
      },
      "source": [
        "from google.colab import drive\n",
        "drive.mount('/content/drive')"
      ],
      "execution_count": 0,
      "outputs": [
        {
          "output_type": "stream",
          "text": [
            "Drive already mounted at /content/drive; to attempt to forcibly remount, call drive.mount(\"/content/drive\", force_remount=True).\n"
          ],
          "name": "stdout"
        }
      ]
    },
    {
      "cell_type": "code",
      "metadata": {
        "id": "a0Vw17O0Qx_p",
        "colab_type": "code",
        "colab": {}
      },
      "source": [
        "# importando as bibliotecas que serão usadas\n",
        "import pandas as pd\n",
        "from matplotlib import pyplot\n",
        "import matplotlib as plt\n"
      ],
      "execution_count": 0,
      "outputs": []
    },
    {
      "cell_type": "markdown",
      "metadata": {
        "id": "oaadIXGxa_3X",
        "colab_type": "text"
      },
      "source": [
        "Esse dataset possui as vendas mensais de champanhe de janeiro de 1964 a setembro de 1972.\n",
        "\n",
        "– **header=0** –> significa que essa será a linha usada como nome da coluna e início dos dados.\n",
        "\n",
        "– **index_col=0** –> declaramos explicitamente para tratar a primeira coluna como o índice nesse caso a coluna que possui datas.\n",
        "\n",
        "– **parse_dates=True** –> para que os dados de data sejam analisados.\n",
        "\n",
        "– **squeeze=True** –> para os dados analisados retornarem uma série do pandas."
      ]
    },
    {
      "cell_type": "code",
      "metadata": {
        "id": "UxfSRNa7R6py",
        "colab_type": "code",
        "outputId": "876b26ee-750e-4149-bf29-6687b64b2be4",
        "colab": {
          "base_uri": "https://localhost:8080/",
          "height": 136
        }
      },
      "source": [
        "df =  pd.read_csv ('/content/drive/My Drive/Data science/champagne.csv',header=0, index_col=0, parse_dates=True, squeeze=True)\n",
        "df.head(5)"
      ],
      "execution_count": 0,
      "outputs": [
        {
          "output_type": "execute_result",
          "data": {
            "text/plain": [
              "Month\n",
              "1964-01-01    2815\n",
              "1964-02-01    2672\n",
              "1964-03-01    2755\n",
              "1964-04-01    2721\n",
              "1964-05-01    2946\n",
              "Name: Sales, dtype: int64"
            ]
          },
          "metadata": {
            "tags": []
          },
          "execution_count": 100
        }
      ]
    },
    {
      "cell_type": "markdown",
      "metadata": {
        "id": "IfP5SYYsSxnY",
        "colab_type": "text"
      },
      "source": [
        "**Vamos visualizar esses dados através de um gráfico** "
      ]
    },
    {
      "cell_type": "code",
      "metadata": {
        "id": "7BffT0r8S-I8",
        "colab_type": "code",
        "outputId": "b1ba3af1-1301-421b-b462-c3af249256d7",
        "colab": {
          "base_uri": "https://localhost:8080/",
          "height": 296
        }
      },
      "source": [
        "# Plotando o gráfico:\n",
        "df.plot()"
      ],
      "execution_count": 0,
      "outputs": [
        {
          "output_type": "execute_result",
          "data": {
            "text/plain": [
              "<matplotlib.axes._subplots.AxesSubplot at 0x7f70c5fd24e0>"
            ]
          },
          "metadata": {
            "tags": []
          },
          "execution_count": 101
        },
        {
          "output_type": "display_data",
          "data": {
            "image/png": "[encoded data removed]",
            "text/plain": [
              "<Figure size 432x288 with 1 Axes>"
            ]
          },
          "metadata": {
            "tags": [],
            "needs_background": "light"
          }
        }
      ]
    },
    {
      "cell_type": "markdown",
      "metadata": {
        "id": "BkHbUZiTdr5a",
        "colab_type": "text"
      },
      "source": [
        "**Rolling**\n",
        "O método rolling é uma forma de se trabalhar com os dados no nível de janela, esse método cria um objeto baseado em um tamanho específico que nos definimos.\n",
        "\n",
        "Esse objeto agrupa uma porção dos dados e com isso conseguimos calcular uma estatística como a média por exemplo."
      ]
    },
    {
      "cell_type": "code",
      "metadata": {
        "id": "WxM8M-hOd1mc",
        "colab_type": "code",
        "colab": {}
      },
      "source": [
        "# vamos criar um objeto rolling de janela igual a 3\n",
        "rolling = df.rolling(window=3)"
      ],
      "execution_count": 0,
      "outputs": []
    },
    {
      "cell_type": "code",
      "metadata": {
        "id": "QZhOZ3kFeZTi",
        "colab_type": "code",
        "outputId": "45915abb-37db-425c-aa12-138655792760",
        "colab": {
          "base_uri": "https://localhost:8080/",
          "height": 34
        }
      },
      "source": [
        "print(rolling)"
      ],
      "execution_count": 0,
      "outputs": [
        {
          "output_type": "stream",
          "text": [
            "Rolling [window=3,center=False,axis=0]\n"
          ],
          "name": "stdout"
        }
      ]
    },
    {
      "cell_type": "markdown",
      "metadata": {
        "id": "JvlkdR7Fe4Da",
        "colab_type": "text"
      },
      "source": [
        "**Em seguida vamos calcular a media da janela que acabamos de calcular**"
      ]
    },
    {
      "cell_type": "code",
      "metadata": {
        "id": "u6S9yLMPfPG6",
        "colab_type": "code",
        "colab": {}
      },
      "source": [
        "# Calcula a média da janela:\n",
        "rolling_media = rolling.mean()"
      ],
      "execution_count": 0,
      "outputs": []
    },
    {
      "cell_type": "code",
      "metadata": {
        "id": "K5d_hr3LfZzH",
        "colab_type": "code",
        "outputId": "6517907f-6bc8-45a8-b67a-92053c89f36b",
        "colab": {
          "base_uri": "https://localhost:8080/",
          "height": 238
        }
      },
      "source": [
        "print(rolling_media)"
      ],
      "execution_count": 0,
      "outputs": [
        {
          "output_type": "stream",
          "text": [
            "Month\n",
            "1964-01-01            NaN\n",
            "1964-02-01            NaN\n",
            "1964-03-01    2747.333333\n",
            "1964-04-01    2716.000000\n",
            "1964-05-01    2807.333333\n",
            "                 ...     \n",
            "1972-05-01    4661.000000\n",
            "1972-06-01    4906.000000\n",
            "1972-07-01    4742.666667\n",
            "1972-08-01    3674.333333\n",
            "1972-09-01    3862.666667\n",
            "Name: Sales, Length: 105, dtype: float64\n"
          ],
          "name": "stdout"
        }
      ]
    },
    {
      "cell_type": "markdown",
      "metadata": {
        "id": "_fyHcbB_f1Pj",
        "colab_type": "text"
      },
      "source": [
        "**OBS:** Podemos observar que temos o valor NaN Nos dois primeiros elementos da série pois ele vai usar os dois primeiros valores mais o terceiro valor para calcular a média dos três primeiros valores. Esses dois primeiros valores podem ser excluídos da nossa base já que não vamos conseguir trabalhar com eles."
      ]
    },
    {
      "cell_type": "markdown",
      "metadata": {
        "id": "JB83hXxKmWIW",
        "colab_type": "text"
      },
      "source": [
        "**Eliminando os valores nulos**"
      ]
    },
    {
      "cell_type": "code",
      "metadata": {
        "id": "xzOygX8JlB_k",
        "colab_type": "code",
        "colab": {}
      },
      "source": [
        "rolling_media.dropna(inplace=True)\n"
      ],
      "execution_count": 0,
      "outputs": []
    },
    {
      "cell_type": "markdown",
      "metadata": {
        "id": "EA6jWlhNqbLv",
        "colab_type": "text"
      },
      "source": [
        "**Através de um gráfico vamos visualizar os dados originais e a rolling_media**"
      ]
    },
    {
      "cell_type": "code",
      "metadata": {
        "id": "EfgdzMm-sUFY",
        "colab_type": "code",
        "outputId": "b0873168-eb00-465b-fc06-fff15a933368",
        "colab": {
          "base_uri": "https://localhost:8080/",
          "height": 279
        }
      },
      "source": [
        "# Plotando os dados originais e os dados da média móvel:\n",
        "df.plot()\n",
        "rolling_media.plot(color='Black')\n",
        "pyplot.show()"
      ],
      "execution_count": 0,
      "outputs": [
        {
          "output_type": "display_data",
          "data": {
            "image/png": "[encoded data removed]",
            "text/plain": [
              "<Figure size 432x288 with 1 Axes>"
            ]
          },
          "metadata": {
            "tags": [],
            "needs_background": "light"
          }
        }
      ]
    },
    {
      "cell_type": "markdown",
      "metadata": {
        "id": "-QY0q93otjUc",
        "colab_type": "text"
      },
      "source": [
        "**Previsões com Média Móvel**"
      ]
    },
    {
      "cell_type": "code",
      "metadata": {
        "id": "f2aMw4luueLv",
        "colab_type": "code",
        "colab": {}
      },
      "source": [
        "# Importando as bibliotecas:\n",
        "from math import sqrt\n",
        "from numpy import mean\n",
        "from sklearn.metrics import mean_squared_error"
      ],
      "execution_count": 0,
      "outputs": []
    },
    {
      "cell_type": "markdown",
      "metadata": {
        "id": "Xz3rmRoauy4k",
        "colab_type": "text"
      },
      "source": [
        "O que faremos a seguir será o seguinte: A cada dois meses vamos calcular a média móvel e usar o valor encontrado para prever o valor do mês seguinte.\n",
        "\n",
        "De forma resumida, vamos prever o valor do mês seguinte com base na média dos últimos 3 meses.\n",
        "\n",
        "Exemplo: Para calcular o valor da venda do mês de Agosto vamos usar a média dos meses de Maio, junho e julho."
      ]
    },
    {
      "cell_type": "code",
      "metadata": {
        "id": "hHF0HbeTvDev",
        "colab_type": "code",
        "colab": {}
      },
      "source": [
        "# Define uma janela de 2 elementos\n",
        "window = 2"
      ],
      "execution_count": 0,
      "outputs": []
    },
    {
      "cell_type": "code",
      "metadata": {
        "id": "fR6veghwvXof",
        "colab_type": "code",
        "outputId": "80e468b8-fda2-4527-8b39-86bf96884ed7",
        "colab": {
          "base_uri": "https://localhost:8080/",
          "height": 34
        }
      },
      "source": [
        "# Obtém os 2 primeiros valores da serie:\n",
        "valores = [df.values[i] for i in range(window)]\n",
        "print(valores)"
      ],
      "execution_count": 0,
      "outputs": [
        {
          "output_type": "stream",
          "text": [
            "[2815, 2672]\n"
          ],
          "name": "stdout"
        }
      ]
    },
    {
      "cell_type": "code",
      "metadata": {
        "id": "8yhh_TvDv-0Q",
        "colab_type": "code",
        "colab": {}
      },
      "source": [
        "# Obtem todos os valores após os dois primeiros:\n",
        "# range(2, tamanho_da_serie):\n",
        "\n",
        "test = [df.values[i] for i in range(window, len(df.values))]"
      ],
      "execution_count": 0,
      "outputs": []
    },
    {
      "cell_type": "markdown",
      "metadata": {
        "id": "vh1YgcMkwaNC",
        "colab_type": "text"
      },
      "source": [
        "Como definimos que os 2 primeiros elementos serão usados para o treino o teste vai receber do terço até o último elemento."
      ]
    },
    {
      "cell_type": "code",
      "metadata": {
        "id": "vVU5IS1rwh9E",
        "colab_type": "code",
        "outputId": "c49d10a5-a5e3-4b3a-fe56-230e466b948c",
        "colab": {
          "base_uri": "https://localhost:8080/",
          "height": 34
        }
      },
      "source": [
        "# Imprime a variável test:\n",
        "# 10 primeiros valores da série após o history\n",
        "test[:10]\n"
      ],
      "execution_count": 0,
      "outputs": [
        {
          "output_type": "execute_result",
          "data": {
            "text/plain": [
              "[2755, 2721, 2946, 3036, 2282, 2212, 2922, 4301, 5764, 7312]"
            ]
          },
          "metadata": {
            "tags": []
          },
          "execution_count": 112
        }
      ]
    },
    {
      "cell_type": "code",
      "metadata": {
        "id": "jGLWtP4nxDOh",
        "colab_type": "code",
        "outputId": "fead6b46-fab2-4660-f378-03bf6bc881b9",
        "colab": {
          "base_uri": "https://localhost:8080/",
          "height": 221
        }
      },
      "source": [
        "# valores da Serie original:\n",
        "df.values"
      ],
      "execution_count": 0,
      "outputs": [
        {
          "output_type": "execute_result",
          "data": {
            "text/plain": [
              "array([ 2815,  2672,  2755,  2721,  2946,  3036,  2282,  2212,  2922,\n",
              "        4301,  5764,  7312,  2541,  2475,  3031,  3266,  3776,  3230,\n",
              "        3028,  1759,  3595,  4474,  6838,  8357,  3113,  3006,  4047,\n",
              "        3523,  3937,  3986,  3260,  1573,  3528,  5211,  7614,  9254,\n",
              "        5375,  3088,  3718,  4514,  4520,  4539,  3663,  1643,  4739,\n",
              "        5428,  8314, 10651,  3633,  4292,  4154,  4121,  4647,  4753,\n",
              "        3965,  1723,  5048,  6922,  9858, 11331,  4016,  3957,  4510,\n",
              "        4276,  4968,  4677,  3523,  1821,  5222,  6872, 10803, 13916,\n",
              "        2639,  2899,  3370,  3740,  2927,  3986,  4217,  1738,  5221,\n",
              "        6424,  9842, 13076,  3934,  3162,  4286,  4676,  5010,  4874,\n",
              "        4633,  1659,  5951,  6981,  9851, 12670,  4348,  3564,  4577,\n",
              "        4788,  4618,  5312,  4298,  1413,  5877])"
            ]
          },
          "metadata": {
            "tags": []
          },
          "execution_count": 113
        }
      ]
    },
    {
      "cell_type": "markdown",
      "metadata": {
        "id": "upqdge9ixiVV",
        "colab_type": "text"
      },
      "source": [
        "Os 2 primeiros elementos (da nossa lista array) foram armazenados na variável history e os demais valores foram armazenados na variável test.\n",
        "\n",
        "Agora vamos criar uma maneira de sempre caminhar com o history para frente, alimentando ele, checando o seu tamanho e depois pegando os dois últimos valores.\n",
        "\n",
        "Essa será a configuração para os 2 primeiros elementos."
      ]
    },
    {
      "cell_type": "code",
      "metadata": {
        "id": "u_rhBvP6xhYY",
        "colab_type": "code",
        "outputId": "1ef4209d-c91d-4c15-9498-c4ce10ad38f5",
        "colab": {
          "base_uri": "https://localhost:8080/",
          "height": 34
        }
      },
      "source": [
        "# Obtém o tamanho da lista history:\n",
        "length = len(valores)\n",
        "print (length)"
      ],
      "execution_count": 0,
      "outputs": [
        {
          "output_type": "stream",
          "text": [
            "2\n"
          ],
          "name": "stdout"
        }
      ]
    },
    {
      "cell_type": "code",
      "metadata": {
        "id": "Zij59f3vylRM",
        "colab_type": "code",
        "outputId": "d9db79bc-188c-4b9d-b70d-f71014b899b3",
        "colab": {
          "base_uri": "https://localhost:8080/",
          "height": 34
        }
      },
      "source": [
        "# Obtém o inicio da range:\n",
        "print (length-window)"
      ],
      "execution_count": 0,
      "outputs": [
        {
          "output_type": "stream",
          "text": [
            "0\n"
          ],
          "name": "stdout"
        }
      ]
    },
    {
      "cell_type": "code",
      "metadata": {
        "id": "0eu0Vq57zisR",
        "colab_type": "code",
        "outputId": "53f38480-db2f-404b-c42e-149bf9f67a23",
        "colab": {
          "base_uri": "https://localhost:8080/",
          "height": 34
        }
      },
      "source": [
        "# Percorre history (2 ultimos elementos):\n",
        "[valores[i] for i in range(length - window, length)]"
      ],
      "execution_count": 0,
      "outputs": [
        {
          "output_type": "execute_result",
          "data": {
            "text/plain": [
              "[2815, 2672]"
            ]
          },
          "metadata": {
            "tags": []
          },
          "execution_count": 116
        }
      ]
    },
    {
      "cell_type": "code",
      "metadata": {
        "id": "Lv79vJeMz6RE",
        "colab_type": "code",
        "outputId": "4e0a0957-b9ee-4ba2-8754-24ef00460c0d",
        "colab": {
          "base_uri": "https://localhost:8080/",
          "height": 34
        }
      },
      "source": [
        "# Calcula a média do 2 últimos valores dos valores da serie original :\n",
        "mean([valores[i] for i in range(length - window, length)])"
      ],
      "execution_count": 0,
      "outputs": [
        {
          "output_type": "execute_result",
          "data": {
            "text/plain": [
              "2743.5"
            ]
          },
          "metadata": {
            "tags": []
          },
          "execution_count": 117
        }
      ]
    },
    {
      "cell_type": "code",
      "metadata": {
        "id": "vQVMPSKb0px7",
        "colab_type": "code",
        "colab": {}
      },
      "source": [
        "# atualiza a lista valores\n",
        "# valor_real é o valor do terceiro mes\n",
        "valor_real = 2755\n",
        "valores.append(valor_real)"
      ],
      "execution_count": 0,
      "outputs": []
    },
    {
      "cell_type": "markdown",
      "metadata": {
        "id": "_3J7tJLH4mtb",
        "colab_type": "text"
      },
      "source": [
        "E esse processo vai se repetindo até o final dos dados, então vamos usar um loop para iterar por todos os dados de teste"
      ]
    },
    {
      "cell_type": "markdown",
      "metadata": {
        "id": "WCJuDSLF1Zl3",
        "colab_type": "text"
      },
      "source": [
        "**Previsão com Média Móvel - Janela deslizante**"
      ]
    },
    {
      "cell_type": "code",
      "metadata": {
        "id": "ec5NQ0tu1Yss",
        "colab_type": "code",
        "outputId": "3bd95477-f9df-4447-9ec2-8e49f12b87ff",
        "colab": {
          "base_uri": "https://localhost:8080/",
          "height": 1000
        }
      },
      "source": [
        "# Define uma variavel chamada X que é a copia da serie de dados\n",
        "X = df.values\n",
        "\n",
        "# Define a variável window = 2 que será a janela de 2 valroes\n",
        "window = 2\n",
        "\n",
        "# Obtem os 2 primeiros valores da serie\n",
        "valores = [X[i] for i in range(window)]\n",
        "\n",
        "# Obtem todos os valores após os dois primeiros.\n",
        "test = [X[i] for i in range(window, len(X))]\n",
        "\n",
        "# cria lista de predições\n",
        "predicoes = []\n",
        "\n",
        "# percorre sobre os dados de teste...\n",
        "\n",
        "for t in range(len(test)):\n",
        "  # define a variavel length com o tamanho da variável valores\n",
        "  length = len(valores)\n",
        "  \n",
        "  # define a variável valor_predito com a média dos 3 valores correntes..                                                           \n",
        "  valor_predito = mean([valores[i] for i in range(length - window, length)])        \n",
        "  \n",
        "  # define a variável valor_real com o valor atual do teste..\n",
        "  valor_real = test[t]                                                              \n",
        "  \n",
        "  # alimenta a lista de predicoes\n",
        "  predicoes.append(valor_predito)                                                  \n",
        "  \n",
        "  # atualiza a lista history com os valores correntes..\n",
        "  valores.append(valor_real)                                                        \n",
        "  \n",
        "  # imprime o valor predito e o real...\n",
        "  print('Valor predito = %f, Valor real = %f' % (valor_predito, valor_real))"
      ],
      "execution_count": 0,
      "outputs": [
        {
          "output_type": "stream",
          "text": [
            "Valor predito = 2743.500000, Valor real = 2755.000000\n",
            "Valor predito = 2713.500000, Valor real = 2721.000000\n",
            "Valor predito = 2738.000000, Valor real = 2946.000000\n",
            "Valor predito = 2833.500000, Valor real = 3036.000000\n",
            "Valor predito = 2991.000000, Valor real = 2282.000000\n",
            "Valor predito = 2659.000000, Valor real = 2212.000000\n",
            "Valor predito = 2247.000000, Valor real = 2922.000000\n",
            "Valor predito = 2567.000000, Valor real = 4301.000000\n",
            "Valor predito = 3611.500000, Valor real = 5764.000000\n",
            "Valor predito = 5032.500000, Valor real = 7312.000000\n",
            "Valor predito = 6538.000000, Valor real = 2541.000000\n",
            "Valor predito = 4926.500000, Valor real = 2475.000000\n",
            "Valor predito = 2508.000000, Valor real = 3031.000000\n",
            "Valor predito = 2753.000000, Valor real = 3266.000000\n",
            "Valor predito = 3148.500000, Valor real = 3776.000000\n",
            "Valor predito = 3521.000000, Valor real = 3230.000000\n",
            "Valor predito = 3503.000000, Valor real = 3028.000000\n",
            "Valor predito = 3129.000000, Valor real = 1759.000000\n",
            "Valor predito = 2393.500000, Valor real = 3595.000000\n",
            "Valor predito = 2677.000000, Valor real = 4474.000000\n",
            "Valor predito = 4034.500000, Valor real = 6838.000000\n",
            "Valor predito = 5656.000000, Valor real = 8357.000000\n",
            "Valor predito = 7597.500000, Valor real = 3113.000000\n",
            "Valor predito = 5735.000000, Valor real = 3006.000000\n",
            "Valor predito = 3059.500000, Valor real = 4047.000000\n",
            "Valor predito = 3526.500000, Valor real = 3523.000000\n",
            "Valor predito = 3785.000000, Valor real = 3937.000000\n",
            "Valor predito = 3730.000000, Valor real = 3986.000000\n",
            "Valor predito = 3961.500000, Valor real = 3260.000000\n",
            "Valor predito = 3623.000000, Valor real = 1573.000000\n",
            "Valor predito = 2416.500000, Valor real = 3528.000000\n",
            "Valor predito = 2550.500000, Valor real = 5211.000000\n",
            "Valor predito = 4369.500000, Valor real = 7614.000000\n",
            "Valor predito = 6412.500000, Valor real = 9254.000000\n",
            "Valor predito = 8434.000000, Valor real = 5375.000000\n",
            "Valor predito = 7314.500000, Valor real = 3088.000000\n",
            "Valor predito = 4231.500000, Valor real = 3718.000000\n",
            "Valor predito = 3403.000000, Valor real = 4514.000000\n",
            "Valor predito = 4116.000000, Valor real = 4520.000000\n",
            "Valor predito = 4517.000000, Valor real = 4539.000000\n",
            "Valor predito = 4529.500000, Valor real = 3663.000000\n",
            "Valor predito = 4101.000000, Valor real = 1643.000000\n",
            "Valor predito = 2653.000000, Valor real = 4739.000000\n",
            "Valor predito = 3191.000000, Valor real = 5428.000000\n",
            "Valor predito = 5083.500000, Valor real = 8314.000000\n",
            "Valor predito = 6871.000000, Valor real = 10651.000000\n",
            "Valor predito = 9482.500000, Valor real = 3633.000000\n",
            "Valor predito = 7142.000000, Valor real = 4292.000000\n",
            "Valor predito = 3962.500000, Valor real = 4154.000000\n",
            "Valor predito = 4223.000000, Valor real = 4121.000000\n",
            "Valor predito = 4137.500000, Valor real = 4647.000000\n",
            "Valor predito = 4384.000000, Valor real = 4753.000000\n",
            "Valor predito = 4700.000000, Valor real = 3965.000000\n",
            "Valor predito = 4359.000000, Valor real = 1723.000000\n",
            "Valor predito = 2844.000000, Valor real = 5048.000000\n",
            "Valor predito = 3385.500000, Valor real = 6922.000000\n",
            "Valor predito = 5985.000000, Valor real = 9858.000000\n",
            "Valor predito = 8390.000000, Valor real = 11331.000000\n",
            "Valor predito = 10594.500000, Valor real = 4016.000000\n",
            "Valor predito = 7673.500000, Valor real = 3957.000000\n",
            "Valor predito = 3986.500000, Valor real = 4510.000000\n",
            "Valor predito = 4233.500000, Valor real = 4276.000000\n",
            "Valor predito = 4393.000000, Valor real = 4968.000000\n",
            "Valor predito = 4622.000000, Valor real = 4677.000000\n",
            "Valor predito = 4822.500000, Valor real = 3523.000000\n",
            "Valor predito = 4100.000000, Valor real = 1821.000000\n",
            "Valor predito = 2672.000000, Valor real = 5222.000000\n",
            "Valor predito = 3521.500000, Valor real = 6872.000000\n",
            "Valor predito = 6047.000000, Valor real = 10803.000000\n",
            "Valor predito = 8837.500000, Valor real = 13916.000000\n",
            "Valor predito = 12359.500000, Valor real = 2639.000000\n",
            "Valor predito = 8277.500000, Valor real = 2899.000000\n",
            "Valor predito = 2769.000000, Valor real = 3370.000000\n",
            "Valor predito = 3134.500000, Valor real = 3740.000000\n",
            "Valor predito = 3555.000000, Valor real = 2927.000000\n",
            "Valor predito = 3333.500000, Valor real = 3986.000000\n",
            "Valor predito = 3456.500000, Valor real = 4217.000000\n",
            "Valor predito = 4101.500000, Valor real = 1738.000000\n",
            "Valor predito = 2977.500000, Valor real = 5221.000000\n",
            "Valor predito = 3479.500000, Valor real = 6424.000000\n",
            "Valor predito = 5822.500000, Valor real = 9842.000000\n",
            "Valor predito = 8133.000000, Valor real = 13076.000000\n",
            "Valor predito = 11459.000000, Valor real = 3934.000000\n",
            "Valor predito = 8505.000000, Valor real = 3162.000000\n",
            "Valor predito = 3548.000000, Valor real = 4286.000000\n",
            "Valor predito = 3724.000000, Valor real = 4676.000000\n",
            "Valor predito = 4481.000000, Valor real = 5010.000000\n",
            "Valor predito = 4843.000000, Valor real = 4874.000000\n",
            "Valor predito = 4942.000000, Valor real = 4633.000000\n",
            "Valor predito = 4753.500000, Valor real = 1659.000000\n",
            "Valor predito = 3146.000000, Valor real = 5951.000000\n",
            "Valor predito = 3805.000000, Valor real = 6981.000000\n",
            "Valor predito = 6466.000000, Valor real = 9851.000000\n",
            "Valor predito = 8416.000000, Valor real = 12670.000000\n",
            "Valor predito = 11260.500000, Valor real = 4348.000000\n",
            "Valor predito = 8509.000000, Valor real = 3564.000000\n",
            "Valor predito = 3956.000000, Valor real = 4577.000000\n",
            "Valor predito = 4070.500000, Valor real = 4788.000000\n",
            "Valor predito = 4682.500000, Valor real = 4618.000000\n",
            "Valor predito = 4703.000000, Valor real = 5312.000000\n",
            "Valor predito = 4965.000000, Valor real = 4298.000000\n",
            "Valor predito = 4805.000000, Valor real = 1413.000000\n",
            "Valor predito = 2855.500000, Valor real = 5877.000000\n"
          ],
          "name": "stdout"
        }
      ]
    },
    {
      "cell_type": "markdown",
      "metadata": {
        "id": "1oGnmkl_6TSZ",
        "colab_type": "text"
      },
      "source": [
        "Esse é nosso modelo de média móvel que vai atualizando com o tempo.\n",
        "\n",
        "Qual seria a nossa taxa de erro, ou seja, como nosso modelo está se saindo?\n",
        "\n",
        "Utilizaremos o rmse para calcular essa taxa de erro"
      ]
    },
    {
      "cell_type": "code",
      "metadata": {
        "id": "3OP7oPCM6X58",
        "colab_type": "code",
        "outputId": "8e44c15d-7ec4-4ea7-8a89-12cc88119cbc",
        "colab": {
          "base_uri": "https://localhost:8080/",
          "height": 34
        }
      },
      "source": [
        "# Calcula a métrica de rmse:\n",
        "rmse = sqrt(mean_squared_error(test, predicoes))\n",
        "rmse"
      ],
      "execution_count": 0,
      "outputs": [
        {
          "output_type": "execute_result",
          "data": {
            "text/plain": [
              "2847.414953510592"
            ]
          },
          "metadata": {
            "tags": []
          },
          "execution_count": 120
        }
      ]
    },
    {
      "cell_type": "code",
      "metadata": {
        "id": "NttZJtUm6Xr0",
        "colab_type": "code",
        "outputId": "05b0e56d-a19a-40ee-e1fc-cedb78da4048",
        "colab": {
          "base_uri": "https://localhost:8080/",
          "height": 1000
        }
      },
      "source": [
        "indices = [i for i in range(0, len(test))]\n",
        "indices"
      ],
      "execution_count": 0,
      "outputs": [
        {
          "output_type": "execute_result",
          "data": {
            "text/plain": [
              "[0,\n",
              " 1,\n",
              " 2,\n",
              " 3,\n",
              " 4,\n",
              " 5,\n",
              " 6,\n",
              " 7,\n",
              " 8,\n",
              " 9,\n",
              " 10,\n",
              " 11,\n",
              " 12,\n",
              " 13,\n",
              " 14,\n",
              " 15,\n",
              " 16,\n",
              " 17,\n",
              " 18,\n",
              " 19,\n",
              " 20,\n",
              " 21,\n",
              " 22,\n",
              " 23,\n",
              " 24,\n",
              " 25,\n",
              " 26,\n",
              " 27,\n",
              " 28,\n",
              " 29,\n",
              " 30,\n",
              " 31,\n",
              " 32,\n",
              " 33,\n",
              " 34,\n",
              " 35,\n",
              " 36,\n",
              " 37,\n",
              " 38,\n",
              " 39,\n",
              " 40,\n",
              " 41,\n",
              " 42,\n",
              " 43,\n",
              " 44,\n",
              " 45,\n",
              " 46,\n",
              " 47,\n",
              " 48,\n",
              " 49,\n",
              " 50,\n",
              " 51,\n",
              " 52,\n",
              " 53,\n",
              " 54,\n",
              " 55,\n",
              " 56,\n",
              " 57,\n",
              " 58,\n",
              " 59,\n",
              " 60,\n",
              " 61,\n",
              " 62,\n",
              " 63,\n",
              " 64,\n",
              " 65,\n",
              " 66,\n",
              " 67,\n",
              " 68,\n",
              " 69,\n",
              " 70,\n",
              " 71,\n",
              " 72,\n",
              " 73,\n",
              " 74,\n",
              " 75,\n",
              " 76,\n",
              " 77,\n",
              " 78,\n",
              " 79,\n",
              " 80,\n",
              " 81,\n",
              " 82,\n",
              " 83,\n",
              " 84,\n",
              " 85,\n",
              " 86,\n",
              " 87,\n",
              " 88,\n",
              " 89,\n",
              " 90,\n",
              " 91,\n",
              " 92,\n",
              " 93,\n",
              " 94,\n",
              " 95,\n",
              " 96,\n",
              " 97,\n",
              " 98,\n",
              " 99,\n",
              " 100,\n",
              " 101,\n",
              " 102]"
            ]
          },
          "metadata": {
            "tags": []
          },
          "execution_count": 121
        }
      ]
    },
    {
      "cell_type": "markdown",
      "metadata": {
        "id": "UlvqZbWf8ssw",
        "colab_type": "text"
      },
      "source": [
        "**Fim**"
      ]
    }
  ]
}